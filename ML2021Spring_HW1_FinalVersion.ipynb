{
  "nbformat": 4,
  "nbformat_minor": 0,
  "metadata": {
    "colab": {
      "provenance": [],
      "gpuType": "T4"
    },
    "kernelspec": {
      "name": "python3",
      "display_name": "Python 3"
    },
    "accelerator": "GPU"
  },
  "cells": [
    {
      "cell_type": "markdown",
      "metadata": {
        "id": "mz0_QVkxCrX3"
      },
      "source": [
        "# **Homework 1: COVID-19 Cases Prediction (Regression)**"
      ]
    },
    {
      "cell_type": "code",
      "source": [
        "from google.colab import drive\n",
        "drive.mount('/content/drive')"
      ],
      "metadata": {
        "colab": {
          "base_uri": "https://localhost:8080/"
        },
        "id": "qCGuu-6Rw9sn",
        "outputId": "7c66eece-7488-4cf4-ce46-eb0db36b0b38"
      },
      "execution_count": null,
      "outputs": [
        {
          "output_type": "stream",
          "name": "stdout",
          "text": [
            "Drive already mounted at /content/drive; to attempt to forcibly remount, call drive.mount(\"/content/drive\", force_remount=True).\n"
          ]
        }
      ]
    },
    {
      "cell_type": "markdown",
      "metadata": {
        "id": "ZeZnPAiwDRWG"
      },
      "source": [
        "Author: Heng-Jui Chang\n",
        "\n",
        "Slides: https://github.com/ga642381/ML2021-Spring/blob/main/HW01/HW01.pdf  \n",
        "Video: TBA\n",
        "\n",
        "Objectives:\n",
        "* Solve a regression problem with deep neural networks (DNN).\n",
        "* Understand basic DNN training tips.\n",
        "* Get familiar with PyTorch.\n",
        "\n",
        "If any questions, please contact the TAs via TA hours, NTU COOL, or email.\n"
      ]
    },
    {
      "cell_type": "markdown",
      "metadata": {
        "id": "Jx3x1nDkG-Uy"
      },
      "source": [
        "# **Download Data**\n",
        "\n",
        "\n",
        "If the Google drive links are dead, you can download data from [kaggle](https://www.kaggle.com/c/ml2021spring-hw1/data), and upload data manually to the workspace."
      ]
    },
    {
      "cell_type": "code",
      "metadata": {
        "id": "tMj55YDKG6ch"
      },
      "source": [
        "tr_path = 'covid.train.csv'  # path to training data\n",
        "tt_path = 'covid.test.csv'   # path to testing data"
      ],
      "execution_count": null,
      "outputs": []
    },
    {
      "cell_type": "code",
      "source": [
        "%cd /content/drive/MyDrive\n",
        "%cd ./ML2021/homework1"
      ],
      "metadata": {
        "colab": {
          "base_uri": "https://localhost:8080/"
        },
        "id": "BWk935Bvz-xn",
        "outputId": "b3382387-f433-4646-b4e3-c28e994db495"
      },
      "execution_count": null,
      "outputs": [
        {
          "output_type": "stream",
          "name": "stdout",
          "text": [
            "/content/drive/MyDrive\n",
            "/content/drive/MyDrive/ML2021/homework1\n"
          ]
        }
      ]
    },
    {
      "cell_type": "code",
      "source": [
        "!pwd"
      ],
      "metadata": {
        "colab": {
          "base_uri": "https://localhost:8080/"
        },
        "id": "mJla2CtP0T3L",
        "outputId": "8d4758d4-cb70-4178-8bc0-9d7a4b579bca"
      },
      "execution_count": null,
      "outputs": [
        {
          "output_type": "stream",
          "name": "stdout",
          "text": [
            "/content/drive/MyDrive/ML2021/homework1\n"
          ]
        }
      ]
    },
    {
      "cell_type": "markdown",
      "metadata": {
        "id": "wS_4-77xHk44"
      },
      "source": [
        "# **Import Some Packages**"
      ]
    },
    {
      "cell_type": "code",
      "metadata": {
        "id": "k-onQd4JNA5H"
      },
      "source": [
        "# PyTorch\n",
        "import torch\n",
        "import torch.nn as nn\n",
        "from torch.utils.data import Dataset, DataLoader\n",
        "\n",
        "# For data preprocess\n",
        "import numpy as np\n",
        "import csv\n",
        "import os\n",
        "\n",
        "# For plotting\n",
        "import matplotlib.pyplot as plt\n",
        "from matplotlib.pyplot import figure\n",
        "\n",
        "myseed = 42069  # # 固定隨機種子(為了實驗的可重現)\n",
        "torch.backends.cudnn.deterministic = True   #使用確定性的卷積算法(默認算法)(cudnn為gpu加速庫)\n",
        "torch.backends.cudnn.benchmark = False  # 關閉CUDA自動優化(每次選擇最優)（避免隨機性，使的不可重現）\n",
        "np.random.seed(myseed)   # 固定NumPy隨機種子\n",
        "torch.manual_seed(myseed)  # 固定PyTorch隨機種子\n",
        "if torch.cuda.is_available():\n",
        "    torch.cuda.manual_seed_all(myseed)  # 固定所有GPU隨機種子"
      ],
      "execution_count": null,
      "outputs": []
    },
    {
      "cell_type": "markdown",
      "source": [
        "控制 PyTorch、NumPy 和 CUDA 的隨機行為。"
      ],
      "metadata": {
        "id": "QAdj85a_3Z6d"
      }
    },
    {
      "cell_type": "markdown",
      "metadata": {
        "id": "BtE3b6JEH7rw"
      },
      "source": [
        "# **Some Utilities**\n",
        "\n",
        "You do not need to modify this part."
      ]
    },
    {
      "cell_type": "code",
      "metadata": {
        "id": "FWMT3uf1NGQp"
      },
      "source": [
        "def get_device():\n",
        "    ''' 自動檢測是否有可用的 GPU（'cuda'），沒有的話使用 CPU '''\n",
        "    return 'cuda' if torch.cuda.is_available() else 'cpu'\n",
        "\n",
        "def plot_learning_curve(loss_record, title=''):\n",
        "    ''' Plot learning curve of your DNN (train & dev loss) '''\n",
        "    total_steps = len(loss_record['train'])\n",
        "    x_1 = range(total_steps)\n",
        "    figure(figsize=(6, 4))\n",
        "    plt.plot(x_1, loss_record['train'], c='tab:red', label='train')\n",
        "    if len(loss_record['dev'])!=0:\n",
        "        x_2 = x_1[::len(loss_record['train']) // len(loss_record['dev'])]\n",
        "        plt.plot(x_2, loss_record['dev'], c='tab:cyan', label='dev')\n",
        "    plt.ylim(0.0, 20.)\n",
        "    plt.xlabel('Training steps')\n",
        "    plt.ylabel('MSE loss')\n",
        "    plt.title('Learning curve of {}'.format(title))\n",
        "    plt.legend()\n",
        "    plt.show()\n",
        "\n",
        "\n",
        "def plot_pred(dv_set, model, device, lim=35., preds=None, targets=None):\n",
        "    ''' Plot prediction of your DNN '''\n",
        "    if preds is None or targets is None:\n",
        "        model.eval()\n",
        "        preds, targets = [], []\n",
        "        for x, y in dv_set:\n",
        "            x, y = x.to(device), y.to(device)  # 將數據移到指定設備\n",
        "            with torch.no_grad():\n",
        "                pred = model(x)\n",
        "                preds.append(pred.detach().cpu())  # 將預測值從計算圖分離並轉到 CPU，方便轉換為 NumPy\n",
        "                targets.append(y.detach().cpu())\n",
        "        preds = torch.cat(preds, dim=0).numpy()\n",
        "        targets = torch.cat(targets, dim=0).numpy()\n",
        "\n",
        "    figure(figsize=(5, 5))\n",
        "    plt.scatter(targets, preds, c='r', alpha=0.5)  # 紅點散點圖\n",
        "    plt.plot([-0.2, lim], [-0.2, lim], c='b')  # 藍色對角線（理想預測）,即 pred = target\n",
        "    plt.xlim(-0.2, lim)\n",
        "    plt.ylim(-0.2, lim)\n",
        "    plt.xlabel('ground truth value')\n",
        "    plt.ylabel('predicted value')\n",
        "    plt.title('Ground Truth v.s. Prediction')\n",
        "    plt.show()"
      ],
      "execution_count": null,
      "outputs": []
    },
    {
      "cell_type": "markdown",
      "metadata": {
        "id": "39U_XFX6KOoj"
      },
      "source": [
        "# **Preprocess**\n",
        "\n",
        "We have three kinds of datasets:\n",
        "* `train`: for training\n",
        "* `dev`: for validation\n",
        "* `test`: for testing (w/o target value)"
      ]
    },
    {
      "cell_type": "markdown",
      "metadata": {
        "id": "TQ-MdwpLL7Dt"
      },
      "source": [
        "## **Dataset**\n",
        "\n",
        "The `COVID19Dataset` below does:\n",
        "* read `.csv` files\n",
        "* extract features\n",
        "* split `covid.train.csv` into train/dev sets\n",
        "* normalize features\n",
        "\n",
        "Finishing `TODO` below might make you pass medium baseline."
      ]
    },
    {
      "cell_type": "markdown",
      "source": [
        "# 特徵選擇"
      ],
      "metadata": {
        "id": "pRjNXdF0HK1K"
      }
    },
    {
      "cell_type": "code",
      "source": [
        "import pandas as pd\n",
        "import numpy as np\n",
        "\n",
        "data = pd.read_csv(tr_path)\n",
        "x = data[data.columns[1:94]]\n",
        "y = data[data.columns[94]]\n",
        "\n",
        "from sklearn.feature_selection import SelectKBest\n",
        "from sklearn.feature_selection import f_regression\n",
        "\n",
        "from sklearn import preprocessing\n",
        "x = (x - x.min()) / (x.max() - x.min())  #做minmax normalization，將數值訂在0到1\n",
        "\n",
        "bestfeatures = SelectKBest(score_func=f_regression, k=15) #訂好怎麼找feature，用F_regression找相性特徵最高的15個features\n",
        "fit = bestfeatures.fit(x,y)  #套用select\n",
        "dfscores = pd.DataFrame(fit.scores_)\n",
        "dfcolumns = pd.DataFrame(x.columns)\n",
        "#concat two dataframes for better visualization\n",
        "featureScores = pd.concat([dfcolumns,dfscores],axis=1) #將scroe, cols合成一個表\n",
        "featureScores.columns = ['Specs','Score']  #naming the dataframe columns\n",
        "print(featureScores.nlargest(15,'Score'))  #print 15 best features"
      ],
      "metadata": {
        "colab": {
          "base_uri": "https://localhost:8080/"
        },
        "id": "Ef6EtjMTHHK6",
        "outputId": "1b06f5c4-1826-49e2-f7ac-9aa4b6d331a6"
      },
      "execution_count": null,
      "outputs": [
        {
          "output_type": "stream",
          "name": "stdout",
          "text": [
            "                 Specs          Score\n",
            "75   tested_positive.1  148069.658278\n",
            "57     tested_positive   69603.872591\n",
            "42        hh_cmnty_cli    9235.492094\n",
            "60      hh_cmnty_cli.1    9209.019558\n",
            "78      hh_cmnty_cli.2    9097.375172\n",
            "43      nohh_cmnty_cli    8395.421300\n",
            "61    nohh_cmnty_cli.1    8343.255927\n",
            "79    nohh_cmnty_cli.2    8208.176435\n",
            "40                 cli    6388.906849\n",
            "58               cli.1    6374.548000\n",
            "76               cli.2    6250.008702\n",
            "41                 ili    5998.922880\n",
            "59               ili.1    5937.588576\n",
            "77               ili.2    5796.947672\n",
            "92  worried_finances.2     833.613191\n"
          ]
        }
      ]
    },
    {
      "cell_type": "code",
      "metadata": {
        "id": "0zlpIp9ANJRU"
      },
      "source": [
        "class COVID19Dataset(Dataset):\n",
        "    ''' Dataset for loading and preprocessing the COVID19 dataset '''\n",
        "    def __init__(self,\n",
        "                 path,\n",
        "                 mode='train',\n",
        "                 target_only=False):\n",
        "        self.mode = mode\n",
        "\n",
        "        # Read data into numpy arrays\n",
        "        with open(path, 'r') as fp:\n",
        "            data = list(csv.reader(fp))  ## 讀取 CSV 轉為列表\n",
        "            data = np.array(data[1:])[:, 1:].astype(float)  # 跳過標頭列和第一列（ID），轉為浮點數\n",
        "\n",
        "        if not target_only:\n",
        "            feats = list(range(93))  #target_only=False 時使用全部 93 個特徵。\n",
        "        else: #target_only=True 時\n",
        "            # TODO: Using 40 states & 2 tested_positive features (indices = 57 & 75)\n",
        "            feats = [40, 41, 42, 43, 57, 58, 59, 60, 61, 75, 76, 77, 78, 79] #上面挑選最優(update)\n",
        "            #pass\n",
        "        if mode == 'test':\n",
        "            # Testing data\n",
        "            # data: 893 x 93 (40 states + day 1 (18) + day 2 (18) + day 3 (17))\n",
        "            data = data[:, feats]  # 只選特定特徵\n",
        "            self.data = torch.FloatTensor(data) # 轉為 PyTorch 張量\n",
        "        else:\n",
        "            # Training data (train/dev sets)\n",
        "            # data: 2700 x 94 (40 states + day 1 (18) + day 2 (18) + day 3 (18))\n",
        "            target = data[:, -1]  #選所有row，但只取最後一個col\n",
        "            data = data[:, feats]\n",
        "            self.mean = torch.FloatTensor(data).mean(dim=0, keepdim=True)\n",
        "            self.std = torch.FloatTensor(data).std(dim=0, keepdim=True)\n",
        "\n",
        "            # Splitting training data into train & dev sets\n",
        "            if mode == 'train':\n",
        "                indices = [i for i in range(len(data)) if i % 5 != 0]\n",
        "\n",
        "            elif mode == 'dev':\n",
        "                indices = [i for i in range(len(data)) if i % 5 == 0]\n",
        "\n",
        "            # Convert data into PyTorch tensors\n",
        "            self.data = torch.FloatTensor(data[indices])\n",
        "            self.target = torch.FloatTensor(target[indices])\n",
        "\n",
        "        # Normalize features (you may remove this part to see what will happen) 加速模型收斂，避免數值不穩定。\n",
        "        self.data[:, 40:] = \\\n",
        "            (self.data[:, 40:] - self.data[:, 40:].mean(dim=0, keepdim=True)) \\\n",
        "            / self.data[:, 40:].std(dim=0, keepdim=True)\n",
        "\n",
        "        self.dim = self.data.shape[1]\n",
        "\n",
        "        print('Finished reading the {} set of COVID19 Dataset ({} samples found, each dim = {})'\n",
        "              .format(mode, len(self.data), self.dim))\n",
        "\n",
        "    def __getitem__(self, index):\n",
        "        # 從dataset取出數據\n",
        "        if self.mode in ['train', 'dev']:\n",
        "            # For training，需要特徵和label\n",
        "            return self.data[index], self.target[index]\n",
        "        else:\n",
        "            # For testing (no target)，做預測\n",
        "            return self.data[index]\n",
        "\n",
        "    def __len__(self):\n",
        "        # Returns the size of the dataset\n",
        "        return len(self.data)\n",
        "\n",
        "    def normalization(self, mean=None, std=None):\n",
        "        # Normalize features (you may remove this part to see what will happen)\n",
        "        # The mean and standard variance of training data will be reused to normalize testing data.\n",
        "        if self.mode == 'train' or self.mode =='dev':\n",
        "            mean = self.mean\n",
        "            std = self.std\n",
        "            self.data =  (self.data-mean) / std\n",
        "        else:\n",
        "            self.data =  (self.data-mean) / std\n",
        "        return mean, std"
      ],
      "execution_count": null,
      "outputs": []
    },
    {
      "cell_type": "markdown",
      "metadata": {
        "id": "AlhTlkE7MDo3"
      },
      "source": [
        "## **DataLoader**\n",
        "\n",
        "A `DataLoader` loads data from a given `Dataset` into batches.\n"
      ]
    },
    {
      "cell_type": "code",
      "metadata": {
        "id": "hlhLk5t6MBX3"
      },
      "source": [
        "def prep_dataloader(path, mode, batch_size, n_jobs=0, target_only=False, mean=None, std=None):\n",
        "    ''' Generates a dataset, then is put into a dataloader. '''\n",
        "    dataset = COVID19Dataset(path, mode=mode, target_only=target_only)  # Construct dataset\n",
        "    mean, std = dataset.normalization(mean, std)\n",
        "    dataloader = DataLoader(\n",
        "        dataset, batch_size,\n",
        "        shuffle=(mode == 'train'), drop_last=False,       #testing時不需shuffle\n",
        "        num_workers=n_jobs, pin_memory=True)                            # Construct dataloader\n",
        "    return dataloader, mean, std"
      ],
      "execution_count": null,
      "outputs": []
    },
    {
      "cell_type": "markdown",
      "metadata": {
        "id": "SGuycwR0MeQB"
      },
      "source": [
        "# **Deep Neural Network**\n",
        "\n",
        "`NeuralNet` is an `nn.Module` designed for regression.\n",
        "The DNN consists of 2 fully-connected layers with ReLU activation.\n",
        "This module also included a function `cal_loss` for calculating loss.\n"
      ]
    },
    {
      "cell_type": "code",
      "metadata": {
        "id": "49-uXYovOAI0"
      },
      "source": [
        "class NeuralNet(nn.Module):\n",
        "    ''' A simple fully-connected deep neural network '''\n",
        "    def __init__(self, input_dim):\n",
        "        super(NeuralNet, self).__init__()\n",
        "\n",
        "        # Define your neural network here\n",
        "        # TODO: How to modify this model to achieve better performance?\n",
        "        self.net = nn.Sequential(\n",
        "          nn.Linear(input_dim, 64),\n",
        "            nn.ReLU(),\n",
        "            nn.Linear(64, 16),\n",
        "            nn.ReLU(),\n",
        "            nn.Linear(16,8),\n",
        "            nn.ReLU(),\n",
        "            nn.Linear(8,4),\n",
        "            nn.ReLU(),\n",
        "            nn.Linear(4,1)\n",
        "        )\n",
        "\n",
        "        # Mean squared error loss\n",
        "        self.criterion = nn.MSELoss(reduction='mean')  # 均方誤差（Mean Squared Error）\n",
        "\n",
        "    def forward(self, x):\n",
        "        ''' Given input of size (batch_size x input_dim), compute output of the network '''\n",
        "        return self.net(x).squeeze(1)   #跑net，並移除輸出維度 1（將 [batch_size, 1] → [batch_size]）\n",
        "\n",
        "    def cal_loss(self, pred, target, l1_lambda):\n",
        "        ''' Calculate loss '''\n",
        "        # TODO: you may implement L2 regularization here\n",
        "        loss = self.criterion(pred, target)\n",
        "\n",
        "        # L1 regularization\n",
        "        l1_reg = torch.tensor(0.).to(device)\n",
        "        for param in model.parameters():\n",
        "            l1_reg += torch.sum(torch.abs(param))\n",
        "        loss += l1_lambda * l1_reg\n",
        "\n",
        "        return loss"
      ],
      "execution_count": null,
      "outputs": []
    },
    {
      "cell_type": "markdown",
      "metadata": {
        "id": "DvFWVjZ5Nvga"
      },
      "source": [
        "# **Train/Dev/Test**"
      ]
    },
    {
      "cell_type": "markdown",
      "metadata": {
        "id": "MAM8QecJOyqn"
      },
      "source": [
        "## **Training**"
      ]
    },
    {
      "cell_type": "code",
      "metadata": {
        "id": "lOqcmYzMO7jB"
      },
      "source": [
        "def train(tr_set, dv_set, model, config, device):\n",
        "    ''' DNN training '''\n",
        "\n",
        "    n_epochs = config['n_epochs']  # Maximum number of epochs\n",
        "\n",
        "    # Setup optimizer\n",
        "    optimizer = getattr(torch.optim, config['optimizer'])(\n",
        "        model.parameters(), **config['optim_hparas'])\n",
        "\n",
        "    min_mse = 1000.\n",
        "    loss_record = {'train': [], 'dev': []}      # for recording training loss\n",
        "    early_stop_cnt = 0\n",
        "    epoch = 0\n",
        "    while epoch < n_epochs:\n",
        "        model.train()                           # set model to training mode\n",
        "        for x, y in tr_set:                     #迭代訓練資料集 (tr_set) 中的每一個批次。\n",
        "            optimizer.zero_grad()               # set gradient to zero\n",
        "            x, y = x.to(device), y.to(device)   # move data to device (cpu/cuda)\n",
        "            pred = model(x)                     #通過模型進行前向傳播，計算預測結果\n",
        "            mse_loss = model.cal_loss(pred, y, config['l1_lambda'])  # compute loss\n",
        "            mse_loss.backward()                 # 執行反向傳播，計算損失相對於模型參數的梯度\n",
        "            optimizer.step()                    # update model with optimizer\n",
        "            loss_record['train'].append(mse_loss.detach().cpu().item())\n",
        "\n",
        "\n",
        "        # After each epoch, test your model on the validation (development) set.\n",
        "        dev_mse = dev(dv_set, model, device)\n",
        "        if dev_mse < min_mse:\n",
        "            # Save model if your model improved\n",
        "            min_mse = dev_mse\n",
        "            print('Saving model (epoch = {:4d}, val_loss = {:.4f})'\n",
        "                .format(epoch + 1, min_mse))\n",
        "            torch.save(model.state_dict(), config['save_path'])  # Save model to specified path\n",
        "            early_stop_cnt = 0\n",
        "        else:\n",
        "            early_stop_cnt += 1\n",
        "\n",
        "        epoch += 1\n",
        "        loss_record['dev'].append(dev_mse)\n",
        "        if early_stop_cnt > config['early_stop']:\n",
        "            # Stop training if your model stops improving for \"config['early_stop']\" epochs.\n",
        "            break\n",
        "\n",
        "    print('Finished training after {} epochs'.format(epoch))\n",
        "    return min_mse, loss_record"
      ],
      "execution_count": null,
      "outputs": []
    },
    {
      "cell_type": "markdown",
      "metadata": {
        "id": "0hSd4Bn3O2PL"
      },
      "source": [
        "## **Validation**"
      ]
    },
    {
      "cell_type": "code",
      "metadata": {
        "id": "yrxrD3YsN3U2"
      },
      "source": [
        "def dev(dv_set, model, device):\n",
        "    model.eval()                                # set model to evalutation mode\n",
        "    total_loss = 0\n",
        "    for x, y in dv_set:                         # iterate through the dataloader\n",
        "        x, y = x.to(device), y.to(device)       # move data to device (cpu/cuda)\n",
        "        with torch.no_grad():                   # disable gradient calculation\n",
        "            pred = model(x)                     # forward pass (compute output)\n",
        "            mse_loss = model.cal_loss(pred, y, config['l1_lambda'])  # compute loss\n",
        "        total_loss += mse_loss.detach().cpu().item() * len(x)  # accumulate loss\n",
        "    total_loss = total_loss / len(dv_set.dataset)              # compute averaged loss\n",
        "\n",
        "    return total_loss"
      ],
      "execution_count": null,
      "outputs": []
    },
    {
      "cell_type": "markdown",
      "metadata": {
        "id": "g0pdrhQAO41L"
      },
      "source": [
        "## **Testing(預測)**"
      ]
    },
    {
      "cell_type": "code",
      "metadata": {
        "id": "aSBMRFlYN5tB"
      },
      "source": [
        "def test(tt_set, model, device):\n",
        "    model.eval()                                # set model to evalutation mode\n",
        "    preds = []\n",
        "    for x in tt_set:                            # iterate through the dataloader\n",
        "        x = x.to(device)                        # move data to device (cpu/cuda)\n",
        "        with torch.no_grad():                   # disable gradient calculation\n",
        "            pred = model(x)                     # forward pass (compute output)\n",
        "            preds.append(pred.detach().cpu())   # collect prediction(轉到cpu方便轉為numpy數組)\n",
        "    preds = torch.cat(preds, dim=0).numpy()     # concatenate all predictions and convert to a numpy array\n",
        "    return preds"
      ],
      "execution_count": null,
      "outputs": []
    },
    {
      "cell_type": "markdown",
      "metadata": {
        "id": "SvckkF5dvf0j"
      },
      "source": [
        "# **Setup Hyper-parameters**\n",
        "\n",
        "`config` contains hyper-parameters for training and the path to save your model."
      ]
    },
    {
      "cell_type": "code",
      "metadata": {
        "id": "NPXpdumwPjE7"
      },
      "source": [
        "device = get_device()                 # get the current available device ('cpu' or 'cuda')\n",
        "os.makedirs('models', exist_ok=True)  # The trained model will be saved to ./models/\n",
        "target_only = True                   # TODO: Using 40 states & 2 tested_positive features，用所選的features\n",
        "\n",
        "seed = 459\n",
        "np.random.seed(seed)\n",
        "delta = np.random.normal(loc=0,scale = 0.000001)\n",
        "\n",
        "# TODO: How to tune these hyper-parameters to improve your model's performance?\n",
        "config = {\n",
        "    'n_epochs': 3000,                # maximum number of epochs\n",
        "    'batch_size': 270,               # mini-batch size for dataloader\n",
        "    'optimizer': 'Adam',             # optimization algorithm (optimizer in torch.optim)\n",
        "    'optim_hparas': {                # hyper-parameters for the optimizer (depends on which optimizer you are using)\n",
        "        'lr': 0.003,                 # learning rate of Adam\n",
        "        #'weight_decay': 1e-8        # weight decay (L2 regularization)\n",
        "    },\n",
        "    'l1_lambda':1e-5 + delta,        # L1 regularization\n",
        "    'early_stop': 200,               # early stopping epochs (the number epochs since your model's last improvement)\n",
        "    'save_path': 'models/model.pth'  # your model will be saved here\n",
        "}\n"
      ],
      "execution_count": null,
      "outputs": []
    },
    {
      "cell_type": "markdown",
      "metadata": {
        "id": "6j1eOV3TOH-j"
      },
      "source": [
        "# **Load data and model**"
      ]
    },
    {
      "cell_type": "code",
      "metadata": {
        "colab": {
          "base_uri": "https://localhost:8080/"
        },
        "id": "eNrYBMmePLKm",
        "outputId": "1d479936-20e9-46c8-9354-d8a8953b1b88"
      },
      "source": [
        "tr_set, mean, std = prep_dataloader(tr_path, 'train', config['batch_size'], target_only=target_only)\n",
        "dv_set, _, _ = prep_dataloader(tr_path, 'dev', config['batch_size'], target_only=target_only, mean=mean, std=std)\n",
        "tt_set, _, _ = prep_dataloader(tt_path, 'test', config['batch_size'], target_only=target_only, mean=mean, std=std)"
      ],
      "execution_count": null,
      "outputs": [
        {
          "output_type": "stream",
          "name": "stderr",
          "text": [
            "<ipython-input-104-3667e0fd838b>:47: UserWarning: std(): degrees of freedom is <= 0. Correction should be strictly less than the reduction factor (input numel divided by output numel). (Triggered internally at /pytorch/aten/src/ATen/native/ReduceOps.cpp:1831.)\n",
            "  / self.data[:, 40:].std(dim=0, keepdim=True)\n"
          ]
        },
        {
          "output_type": "stream",
          "name": "stdout",
          "text": [
            "Finished reading the train set of COVID19 Dataset (2160 samples found, each dim = 14)\n",
            "Finished reading the dev set of COVID19 Dataset (540 samples found, each dim = 14)\n",
            "Finished reading the test set of COVID19 Dataset (893 samples found, each dim = 14)\n"
          ]
        }
      ]
    },
    {
      "cell_type": "code",
      "metadata": {
        "id": "FHylSirLP9oh"
      },
      "source": [
        "model = NeuralNet(tr_set.dataset.dim).to(device)  # Construct model and move to device"
      ],
      "execution_count": null,
      "outputs": []
    },
    {
      "cell_type": "markdown",
      "metadata": {
        "id": "sX2B_zgSOPTJ"
      },
      "source": [
        "# **Start Training!**"
      ]
    },
    {
      "cell_type": "code",
      "metadata": {
        "colab": {
          "base_uri": "https://localhost:8080/"
        },
        "id": "GrEbUxazQAAZ",
        "outputId": "18ce4d4a-1850-47c5-e5ac-12196ddd127b"
      },
      "source": [
        "model_loss, model_loss_record = train(tr_set, dv_set, model, config, device)"
      ],
      "execution_count": null,
      "outputs": [
        {
          "output_type": "stream",
          "name": "stdout",
          "text": [
            "Saving model (epoch =    1, val_loss = 300.2631)\n",
            "Saving model (epoch =    2, val_loss = 274.2977)\n",
            "Saving model (epoch =    3, val_loss = 214.0072)\n",
            "Saving model (epoch =    4, val_loss = 113.5368)\n",
            "Saving model (epoch =    5, val_loss = 90.2621)\n",
            "Saving model (epoch =    6, val_loss = 73.3386)\n",
            "Saving model (epoch =    7, val_loss = 70.5105)\n",
            "Saving model (epoch =    8, val_loss = 60.1677)\n",
            "Saving model (epoch =    9, val_loss = 53.4522)\n",
            "Saving model (epoch =   10, val_loss = 44.6502)\n",
            "Saving model (epoch =   11, val_loss = 35.8761)\n",
            "Saving model (epoch =   12, val_loss = 26.7332)\n",
            "Saving model (epoch =   13, val_loss = 18.8765)\n",
            "Saving model (epoch =   14, val_loss = 12.7268)\n",
            "Saving model (epoch =   15, val_loss = 8.6071)\n",
            "Saving model (epoch =   16, val_loss = 5.5794)\n",
            "Saving model (epoch =   17, val_loss = 3.6095)\n",
            "Saving model (epoch =   18, val_loss = 2.4284)\n",
            "Saving model (epoch =   19, val_loss = 2.0233)\n",
            "Saving model (epoch =   20, val_loss = 1.8179)\n",
            "Saving model (epoch =   21, val_loss = 1.6894)\n",
            "Saving model (epoch =   22, val_loss = 1.6197)\n",
            "Saving model (epoch =   23, val_loss = 1.5715)\n",
            "Saving model (epoch =   24, val_loss = 1.5182)\n",
            "Saving model (epoch =   25, val_loss = 1.4804)\n",
            "Saving model (epoch =   27, val_loss = 1.4134)\n",
            "Saving model (epoch =   28, val_loss = 1.3851)\n",
            "Saving model (epoch =   29, val_loss = 1.3500)\n",
            "Saving model (epoch =   30, val_loss = 1.3361)\n",
            "Saving model (epoch =   31, val_loss = 1.3154)\n",
            "Saving model (epoch =   32, val_loss = 1.3067)\n",
            "Saving model (epoch =   33, val_loss = 1.3021)\n",
            "Saving model (epoch =   34, val_loss = 1.3005)\n",
            "Saving model (epoch =   36, val_loss = 1.2385)\n",
            "Saving model (epoch =   37, val_loss = 1.2206)\n",
            "Saving model (epoch =   38, val_loss = 1.2073)\n",
            "Saving model (epoch =   39, val_loss = 1.1946)\n",
            "Saving model (epoch =   40, val_loss = 1.1772)\n",
            "Saving model (epoch =   41, val_loss = 1.1619)\n",
            "Saving model (epoch =   42, val_loss = 1.1552)\n",
            "Saving model (epoch =   43, val_loss = 1.1460)\n",
            "Saving model (epoch =   44, val_loss = 1.1263)\n",
            "Saving model (epoch =   45, val_loss = 1.1243)\n",
            "Saving model (epoch =   46, val_loss = 1.1008)\n",
            "Saving model (epoch =   47, val_loss = 1.1003)\n",
            "Saving model (epoch =   48, val_loss = 1.0829)\n",
            "Saving model (epoch =   49, val_loss = 1.0721)\n",
            "Saving model (epoch =   50, val_loss = 1.0662)\n",
            "Saving model (epoch =   51, val_loss = 1.0532)\n",
            "Saving model (epoch =   52, val_loss = 1.0509)\n",
            "Saving model (epoch =   53, val_loss = 1.0354)\n",
            "Saving model (epoch =   58, val_loss = 1.0304)\n",
            "Saving model (epoch =   59, val_loss = 0.9911)\n",
            "Saving model (epoch =   62, val_loss = 0.9763)\n",
            "Saving model (epoch =   63, val_loss = 0.9681)\n",
            "Saving model (epoch =   65, val_loss = 0.9642)\n",
            "Saving model (epoch =   66, val_loss = 0.9565)\n",
            "Saving model (epoch =   68, val_loss = 0.9520)\n",
            "Saving model (epoch =   72, val_loss = 0.9396)\n",
            "Saving model (epoch =   73, val_loss = 0.9312)\n",
            "Saving model (epoch =   74, val_loss = 0.9216)\n",
            "Saving model (epoch =   79, val_loss = 0.9085)\n",
            "Saving model (epoch =   81, val_loss = 0.9049)\n",
            "Saving model (epoch =   84, val_loss = 0.8930)\n",
            "Saving model (epoch =   86, val_loss = 0.8927)\n",
            "Saving model (epoch =   87, val_loss = 0.8880)\n",
            "Saving model (epoch =   89, val_loss = 0.8864)\n",
            "Saving model (epoch =   90, val_loss = 0.8863)\n",
            "Saving model (epoch =   91, val_loss = 0.8824)\n",
            "Saving model (epoch =   95, val_loss = 0.8812)\n",
            "Saving model (epoch =  101, val_loss = 0.8694)\n",
            "Saving model (epoch =  110, val_loss = 0.8635)\n",
            "Saving model (epoch =  114, val_loss = 0.8589)\n",
            "Saving model (epoch =  123, val_loss = 0.8560)\n",
            "Saving model (epoch =  125, val_loss = 0.8526)\n",
            "Saving model (epoch =  132, val_loss = 0.8506)\n",
            "Saving model (epoch =  146, val_loss = 0.8478)\n",
            "Saving model (epoch =  147, val_loss = 0.8431)\n",
            "Saving model (epoch =  163, val_loss = 0.8429)\n",
            "Saving model (epoch =  168, val_loss = 0.8424)\n",
            "Saving model (epoch =  180, val_loss = 0.8409)\n",
            "Saving model (epoch =  181, val_loss = 0.8352)\n",
            "Saving model (epoch =  243, val_loss = 0.8328)\n",
            "Saving model (epoch =  345, val_loss = 0.8315)\n",
            "Saving model (epoch =  364, val_loss = 0.8283)\n",
            "Saving model (epoch =  366, val_loss = 0.8266)\n",
            "Finished training after 567 epochs\n"
          ]
        }
      ]
    },
    {
      "cell_type": "code",
      "metadata": {
        "colab": {
          "base_uri": "https://localhost:8080/",
          "height": 410
        },
        "id": "hsNO9nnXQBvP",
        "outputId": "864c7b06-32b8-4cf1-d50f-1ace7825a7d2"
      },
      "source": [
        "plot_learning_curve(model_loss_record, title='deep model')"
      ],
      "execution_count": null,
      "outputs": [
        {
          "output_type": "display_data",
          "data": {
            "text/plain": [
              "<Figure size 600x400 with 1 Axes>"
            ],
            "image/png": "[encoded data removed]"
          },
          "metadata": {}
        }
      ]
    },
    {
      "cell_type": "code",
      "metadata": {
        "colab": {
          "base_uri": "https://localhost:8080/",
          "height": 487
        },
        "id": "3iZTVn5WQFpX",
        "outputId": "158608c7-f35d-4042-b570-81fbda851820"
      },
      "source": [
        "del model\n",
        "model = NeuralNet(tr_set.dataset.dim).to(device)\n",
        "ckpt = torch.load(config['save_path'], map_location='cpu')  # Load your best model\n",
        "model.load_state_dict(ckpt)\n",
        "plot_pred(dv_set, model, device)  # Show prediction on the validation set"
      ],
      "execution_count": null,
      "outputs": [
        {
          "output_type": "display_data",
          "data": {
            "text/plain": [
              "<Figure size 500x500 with 1 Axes>"
            ],
            "image/png": "[encoded data removed]"
          },
          "metadata": {}
        }
      ]
    },
    {
      "cell_type": "markdown",
      "metadata": {
        "id": "aQikz3IPiyPf"
      },
      "source": [
        "# **Testing**\n",
        "The predictions of your model on testing set will be stored at `pred.csv`."
      ]
    },
    {
      "cell_type": "code",
      "metadata": {
        "colab": {
          "base_uri": "https://localhost:8080/"
        },
        "id": "O8cTuQjQQOon",
        "outputId": "7050adb9-07c4-498c-9736-5c3609571de6"
      },
      "source": [
        "def save_pred(preds, file):\n",
        "    ''' Save predictions to specified file '''\n",
        "    print('Saving results to {}'.format(file))\n",
        "    with open(file, 'w') as fp:\n",
        "        writer = csv.writer(fp)\n",
        "        writer.writerow(['id', 'tested_positive'])\n",
        "        for i, p in enumerate(preds):\n",
        "            writer.writerow([i, p])\n",
        "\n",
        "preds = test(tt_set, model, device)  # predict COVID-19 cases with your model\n",
        "save_pred(preds, 'pred.csv')         # save prediction file to pred.csv"
      ],
      "execution_count": null,
      "outputs": [
        {
          "output_type": "stream",
          "name": "stdout",
          "text": [
            "Saving results to pred.csv\n"
          ]
        }
      ]
    },
    {
      "cell_type": "markdown",
      "metadata": {
        "id": "nfrVxqJanGpE"
      },
      "source": [
        "# **Hints**\n",
        "\n",
        "## **Simple Baseline**\n",
        "* Run sample code\n",
        "\n",
        "## **Medium Baseline**\n",
        "* Feature selection: 40 states + 2 `tested_positive` (`TODO` in dataset)\n",
        "\n",
        "## **Strong Baseline**\n",
        "* Feature selection (what other features are useful?)\n",
        "* DNN architecture (layers? dimension? activation function?)\n",
        "* Training (mini-batch? optimizer? learning rate?)\n",
        "* L2 regularization\n",
        "* There are some mistakes in the sample code, can you find them?"
      ]
    },
    {
      "cell_type": "markdown",
      "metadata": {
        "id": "9tmCwXgpot3t"
      },
      "source": [
        "# **Reference**\n",
        "This code is completely written by Heng-Jui Chang @ NTUEE.  \n",
        "Copying or reusing this code is required to specify the original author.\n",
        "\n",
        "E.g.  \n",
        "Source: Heng-Jui Chang @ NTUEE (https://github.com/ga642381/ML2021-Spring/blob/main/HW01/HW01.ipynb)\n"
      ]
    }
  ]
}